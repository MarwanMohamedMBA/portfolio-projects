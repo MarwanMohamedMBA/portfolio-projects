{
 "cells": [
  {
   "cell_type": "code",
   "execution_count": 1,
   "id": "5e89d3de-cb98-4344-866c-fa60c87955c5",
   "metadata": {},
   "outputs": [
    {
     "name": "stdout",
     "output_type": "stream",
     "text": [
      "Welcome to Python with JupyterLab!\n"
     ]
    }
   ],
   "source": [
    "print(\"Welcome to Python with JupyterLab!\")"
   ]
  },
  {
   "cell_type": "code",
   "execution_count": 2,
   "id": "56dc966d-3338-4e50-91f6-784399646bd6",
   "metadata": {},
   "outputs": [
    {
     "name": "stdout",
     "output_type": "stream",
     "text": [
      "Welcome to CVS Pharmacy managed by Marwan Mohamed in Cleveland, OH\n"
     ]
    }
   ],
   "source": [
    "# Welcome to Python!\n",
    "store_name = \"CVS Pharmacy\"\n",
    "location = \"Cleveland, OH\"\n",
    "manager_name = \"Marwan Mohamed\"\n",
    "\n",
    "print(\"Welcome to\", store_name, \"managed by\", manager_name, \"in\", location)\n"
   ]
  },
  {
   "cell_type": "code",
   "execution_count": 3,
   "id": "4f89ec4d-ddeb-4a25-a1c2-b6ab0471ff21",
   "metadata": {},
   "outputs": [
    {
     "name": "stdout",
     "output_type": "stream",
     "text": [
      "welcome to CVS Silverton Store Manager Marwan Mohamed located at Silverton, OH\n"
     ]
    }
   ],
   "source": [
    "store_name = \"CVS Silverton\"\n",
    "location = \"Silverton, OH\"\n",
    "Manager_name = \"Marwan Sayed\"\n",
    "\n",
    "print(\"welcome to\", store_name, \"Store Manager\", manager_name, \"located at\", location)"
   ]
  },
  {
   "cell_type": "code",
   "execution_count": 4,
   "id": "fd97c4b2-50b0-4589-941c-cb3683e29012",
   "metadata": {},
   "outputs": [
    {
     "name": "stdout",
     "output_type": "stream",
     "text": [
      "Daily Profit: $ 1075.45\n"
     ]
    }
   ],
   "source": [
    "# Store sales and profit example\n",
    "daily_sales = 2850.75\n",
    "cost_of_goods = 1775.30\n",
    "\n",
    "profit = daily_sales - cost_of_goods\n",
    "print(\"Daily Profit: $\", round(profit, 2))\n"
   ]
  },
  {
   "cell_type": "code",
   "execution_count": 11,
   "id": "9127b34e-dfac-450c-af9c-c9ab83602097",
   "metadata": {},
   "outputs": [
    {
     "name": "stdout",
     "output_type": "stream",
     "text": [
      "Profit = $ 2169.86\n"
     ]
    }
   ],
   "source": [
    "daily_sales= 4670.23\n",
    "cost_of_goods= 2500.37\n",
    "\n",
    "profit= daily_sales - cost_of_goods\n",
    "print(\"Profit = $\", round(profit, 2))\n"
   ]
  },
  {
   "cell_type": "code",
   "execution_count": 12,
   "id": "2eb4ffa7-2349-46b5-80e2-fea3045b1dc0",
   "metadata": {},
   "outputs": [
    {
     "name": "stdout",
     "output_type": "stream",
     "text": [
      "Needs improvement 💡\n"
     ]
    }
   ],
   "source": [
    "# A simple logic check\n",
    "if profit > 4000:\n",
    "    print(\"Strong profit day 💰\")\n",
    "else:\n",
    "    print(\"Needs improvement 💡\")\n"
   ]
  },
  {
   "cell_type": "code",
   "execution_count": 13,
   "id": "c9146cb8-155c-4774-93ea-7a0211cc83b1",
   "metadata": {},
   "outputs": [
    {
     "name": "stdout",
     "output_type": "stream",
     "text": [
      "we can do better\n"
     ]
    }
   ],
   "source": [
    "if profit >= 3000:\n",
    "    print(\"Heck yea!\")\n",
    "else:\n",
    "    print(\"we can do better\")\n",
    "    "
   ]
  },
  {
   "cell_type": "code",
   "execution_count": 14,
   "id": "520a144b-7e8e-4640-b248-cd3df65d0aef",
   "metadata": {},
   "outputs": [
    {
     "name": "stdout",
     "output_type": "stream",
     "text": [
      "Store: CVS #8824\n",
      "Profit Margin: 25.76 %\n",
      "✅ Great job — margin goal met!\n"
     ]
    }
   ],
   "source": [
    "# CVS-style Profit Margin Checker\n",
    "store = \"CVS #8824\"\n",
    "total_sales = 9200.00\n",
    "total_cost = 6830.00\n",
    "\n",
    "# Calculate margin\n",
    "profit = total_sales - total_cost\n",
    "margin_percent = (profit / total_sales) * 100\n",
    "\n",
    "print(\"Store:\", store)\n",
    "print(\"Profit Margin:\", round(margin_percent, 2), \"%\")\n",
    "\n",
    "# Check if it meets goal\n",
    "if margin_percent >= 25:\n",
    "    print(\"✅ Great job — margin goal met!\")\n",
    "else:\n",
    "    print(\"⚠️ Margin below goal. Investigate.\")\n"
   ]
  },
  {
   "cell_type": "code",
   "execution_count": 16,
   "id": "6e2e2be2-18b3-4000-9b0e-56034c62cf28",
   "metadata": {},
   "outputs": [
    {
     "name": "stdout",
     "output_type": "stream",
     "text": [
      "Store: CVS #2764\n",
      "Profit Margin: 54.13 %\n",
      "Successful day- goal met!\n"
     ]
    }
   ],
   "source": [
    "store = \"CVS #2764\"\n",
    "total_sales = 5670.23\n",
    "total_cost = 2600.67\n",
    "\n",
    "profit = total_sales - total_cost\n",
    "margin_percentage = (profit/ total_sales) * 100\n",
    "\n",
    "print(\"Store:\",store)\n",
    "print(\"Profit Margin:\", round(margin_percentage, 2),\"%\")\n",
    "\n",
    "if margin_percentage >= 25:\n",
    "    print(\"Successful day- goal met!\")\n",
    "else:\n",
    "    print(\"not there, investigate!\")\n"
   ]
  },
  {
   "cell_type": "code",
   "execution_count": null,
   "id": "752b0a59-973d-4111-8af4-32c1ae872777",
   "metadata": {},
   "outputs": [],
   "source": []
  }
 ],
 "metadata": {
  "kernelspec": {
   "display_name": "Python [conda env:base] *",
   "language": "python",
   "name": "conda-base-py"
  },
  "language_info": {
   "codemirror_mode": {
    "name": "ipython",
    "version": 3
   },
   "file_extension": ".py",
   "mimetype": "text/x-python",
   "name": "python",
   "nbconvert_exporter": "python",
   "pygments_lexer": "ipython3",
   "version": "3.13.5"
  }
 },
 "nbformat": 4,
 "nbformat_minor": 5
}
