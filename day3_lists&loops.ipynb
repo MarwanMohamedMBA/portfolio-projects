{
 "cells": [
  {
   "cell_type": "code",
   "execution_count": 1,
   "id": "2b23615e-b1c4-4a24-9057-0ac70c951bcb",
   "metadata": {},
   "outputs": [
    {
     "name": "stdout",
     "output_type": "stream",
     "text": [
      "['Layla', 'Omar', 'Sarah', 'John']\n",
      "Layla\n",
      "4\n"
     ]
    }
   ],
   "source": [
    "patients = [\"Layla\", \"Omar\", \"Sarah\", \"John\"]\n",
    "print(patients)\n",
    "print(patients[0])   # first patient\n",
    "print(len(patients)) # how many patients?\n"
   ]
  },
  {
   "cell_type": "code",
   "execution_count": 2,
   "id": "fee1dede-2dde-4709-8469-f5c5a3e7ae97",
   "metadata": {},
   "outputs": [
    {
     "name": "stdout",
     "output_type": "stream",
     "text": [
      "✅ Layla has been vaccinated.\n",
      "✅ Omar has been vaccinated.\n",
      "✅ Sarah has been vaccinated.\n",
      "✅ John has been vaccinated.\n"
     ]
    }
   ],
   "source": [
    "patients = [\"Layla\", \"Omar\", \"Sarah\", \"John\"]\n",
    "\n",
    "for name in patients:\n",
    "    print(f\"✅ {name} has been vaccinated.\")\n"
   ]
  },
  {
   "cell_type": "code",
   "execution_count": 6,
   "id": "e85d852a-a4b2-4d67-8529-7ff88737bb24",
   "metadata": {},
   "outputs": [
    {
     "name": "stdout",
     "output_type": "stream",
     "text": [
      "🩺 Report: Amina received a vaccine.\n",
      "🩺 Report: Mohamed received a vaccine.\n",
      "🩺 Report: Yara received a vaccine.\n",
      "🩺 Report: Nour received a vaccine.\n"
     ]
    }
   ],
   "source": [
    "vaccinated_today = [\"Amina\", \"Mohamed\", \"Yara\", \"Nour\"]\n",
    "\n",
    "for blah in vaccinated_today:\n",
    "    print(f\"🩺 Report: {blah} received a vaccine.\")\n"
   ]
  },
  {
   "cell_type": "code",
   "execution_count": 14,
   "id": "bc062081-0c84-4c3e-8a2d-43514e5d7533",
   "metadata": {},
   "outputs": [
    {
     "name": "stdout",
     "output_type": "stream",
     "text": [
      "report: marwan has an appointment today\n",
      "report: jack has an appointment today\n",
      "report: joe has an appointment today\n"
     ]
    }
   ],
   "source": [
    "appointments_today = [\"marwan\", \"jack\", \"joe\"]\n",
    "for name in appointments_today:\n",
    "    print(f\"report: {name} has an appointment today\")"
   ]
  },
  {
   "cell_type": "code",
   "execution_count": 13,
   "id": "64994ba8-a20d-4d61-9979-0c0517650063",
   "metadata": {},
   "outputs": [
    {
     "name": "stdout",
     "output_type": "stream",
     "text": [
      "✅ Amina (22) is eligible for vaccination.\n",
      "⚠️ Mohamed (17) is NOT eligible — underage.\n",
      "✅ Yara (19) is eligible for vaccination.\n",
      "⚠️ Nour (16) is NOT eligible — underage.\n"
     ]
    }
   ],
   "source": [
    "patients = [\"Amina\", \"Mohamed\", \"Yara\", \"Nour\"]\n",
    "ages = [22, 17, 19, 16]\n",
    "for x in range(len(patients)):\n",
    "    name = patients[x]\n",
    "    age = ages[x]\n",
    "\n",
    "    if age >= 18:\n",
    "        print(f\"✅ {name} ({age}) is eligible for vaccination.\")\n",
    "    else:\n",
    "        print(f\"⚠️ {name} ({age}) is NOT eligible — underage.\")\n",
    "\n"
   ]
  },
  {
   "cell_type": "code",
   "execution_count": 17,
   "id": "bf7cd3a9-9e72-4ce4-856a-0f588b15887a",
   "metadata": {},
   "outputs": [
    {
     "name": "stdout",
     "output_type": "stream",
     "text": [
      "anna(25) is good to go\n",
      "mohamed(40) is good to go\n",
      "adam(1) is not elgible for a vaccine\n",
      "anas(17) is not elgible for a vaccine\n",
      "nour(22) is good to go\n"
     ]
    }
   ],
   "source": [
    "patients = [\"anna\", \"mohamed\", \"adam\", \"anas\", \"nour\"]\n",
    "ages=[25,40,1,17,22]\n",
    "for i in range(len(patients)):\n",
    "    name = patients[i]\n",
    "    age = ages[i]\n",
    "\n",
    "    if age>= 18:\n",
    "        print(f\"{name}({age}) is good to go\")\n",
    "    else:\n",
    "        print(f\"{name}({age}) is not elgible for a vaccine\")"
   ]
  },
  {
   "cell_type": "code",
   "execution_count": 33,
   "id": "a691f17c-ac89-47bf-902a-db4577c634ba",
   "metadata": {},
   "outputs": [
    {
     "name": "stdout",
     "output_type": "stream",
     "text": [
      "How many patients today?  2\n",
      "Enter name of patient 1:  adam\n",
      "Enter age of patient 1:  1\n",
      "Enter name of patient 2:  anna\n",
      "Enter age of patient 2:  25\n"
     ]
    },
    {
     "name": "stdout",
     "output_type": "stream",
     "text": [
      "\n",
      "🧾 Vaccine Eligibility Report:\n",
      "⚠️ adam (1) is NOT eligible — underage.\n",
      "✅ anna (25) is eligible for vaccination.\n"
     ]
    }
   ],
   "source": [
    "# Ask how many patients today\n",
    "total_patients = int(input(\"How many patients today? \"))\n",
    "\n",
    "# Create empty lists\n",
    "names = []\n",
    "ages = []\n",
    "\n",
    "# Function to check eligibility\n",
    "def eligibility(age):\n",
    "    if age >= 18:\n",
    "        return True\n",
    "    else:\n",
    "        return False\n",
    "\n",
    "# Collect name and age for each patient\n",
    "for i in range(total_patients):\n",
    "    name = input(f\"Enter name of patient {i+1}: \")\n",
    "    age = int(input(f\"Enter age of patient {i+1}: \"))\n",
    "\n",
    "    names.append(name)\n",
    "    ages.append(age)\n",
    "\n",
    "# Print report\n",
    "print(\"\\n🧾 Vaccine Eligibility Report:\")\n",
    "for i in range(total_patients):\n",
    "    name = names[i]\n",
    "    age = ages[i]\n",
    "    \n",
    "    if eligibility(age):\n",
    "        print(f\"✅ {name} ({age}) is eligible for vaccination.\")\n",
    "    else:\n",
    "        print(f\"⚠️ {name} ({age}) is NOT eligible — underage.\")\n",
    "\n",
    "\n"
   ]
  },
  {
   "cell_type": "code",
   "execution_count": 48,
   "id": "28740e7b-f8ff-4bfa-b70f-bc4a50c339de",
   "metadata": {},
   "outputs": [
    {
     "name": "stdout",
     "output_type": "stream",
     "text": [
      "how many patients were vaccinated today?  1\n",
      "enter name of patient 1: n\n",
      "enter age of patient 1: 12\n",
      "is vaccine in stock? : yes\n"
     ]
    },
    {
     "name": "stdout",
     "output_type": "stream",
     "text": [
      "vaccine eligibility report:\n"
     ]
    },
    {
     "ename": "TypeError",
     "evalue": "'>=' not supported between instances of 'str' and 'int'",
     "output_type": "error",
     "traceback": [
      "\u001b[0;31m---------------------------------------------------------------------------\u001b[0m",
      "\u001b[0;31mTypeError\u001b[0m                                 Traceback (most recent call last)",
      "Cell \u001b[0;32mIn[48], line 35\u001b[0m\n\u001b[1;32m     33\u001b[0m name \u001b[38;5;241m=\u001b[39m names[i]\n\u001b[1;32m     34\u001b[0m age \u001b[38;5;241m=\u001b[39m ages [i]\n\u001b[0;32m---> 35\u001b[0m \u001b[38;5;28;01mif\u001b[39;00m eligibility(age) \u001b[38;5;241m&\u001b[39m vaccine_instock(yes):\n\u001b[1;32m     36\u001b[0m     \u001b[38;5;28mprint\u001b[39m(\u001b[38;5;124mf\u001b[39m\u001b[38;5;124m\"\u001b[39m\u001b[38;5;124m✅ \u001b[39m\u001b[38;5;132;01m{\u001b[39;00mname\u001b[38;5;132;01m}\u001b[39;00m\u001b[38;5;124m (\u001b[39m\u001b[38;5;132;01m{\u001b[39;00mage\u001b[38;5;132;01m}\u001b[39;00m\u001b[38;5;124m) is eligible for vaccination.\u001b[39m\u001b[38;5;124m\"\u001b[39m)\n\u001b[1;32m     37\u001b[0m \u001b[38;5;28;01melse\u001b[39;00m:\n",
      "Cell \u001b[0;32mIn[48], line 9\u001b[0m, in \u001b[0;36meligibility\u001b[0;34m(age)\u001b[0m\n\u001b[1;32m      8\u001b[0m \u001b[38;5;28;01mdef\u001b[39;00m\u001b[38;5;250m \u001b[39m\u001b[38;5;21meligibility\u001b[39m(age):  \u001b[38;5;66;03m#age eligibility function\u001b[39;00m\n\u001b[0;32m----> 9\u001b[0m     \u001b[38;5;28;01mif\u001b[39;00m age \u001b[38;5;241m>\u001b[39m\u001b[38;5;241m=\u001b[39m \u001b[38;5;241m18\u001b[39m:\n\u001b[1;32m     10\u001b[0m         \u001b[38;5;28;01mreturn\u001b[39;00m \u001b[38;5;28;01mTrue\u001b[39;00m\n\u001b[1;32m     11\u001b[0m     \u001b[38;5;28;01melse\u001b[39;00m:\n",
      "\u001b[0;31mTypeError\u001b[0m: '>=' not supported between instances of 'str' and 'int'"
     ]
    }
   ],
   "source": [
    "total_vaccinated = int(input(\"how many patients were vaccinated today? \")) #ask user for number of vaccines\n",
    "\n",
    "names = []   #empty list\n",
    "ages = []\n",
    "vaccine_instock = []\n",
    "\n",
    "                       \n",
    "def eligibility(age):  #age eligibility function\n",
    "    if age >= 18:\n",
    "        return True\n",
    "    else:\n",
    "        return False\n",
    "\n",
    "\n",
    "for i in range(total_vaccinated):\n",
    "    name = input(f\"enter name of patient {i+1}:\")\n",
    "    age = input(f\"enter age of patient {i+1}:\")\n",
    "    vaccine_instock = input(f\"is vaccine in stock? :\")\n",
    "    names.append(name)\n",
    "    ages.append(age)\n",
    "\n",
    "def vaccine_instock(yes,no): #vaccine availability function\n",
    "    if  vaccine_instock == (f\"yes\"):\n",
    "        return True\n",
    "    else:\n",
    "        return False\n",
    "\n",
    "\n",
    "#printing summary\n",
    "\n",
    "print(\"vaccine eligibility report:\")\n",
    "for i in range(total_vaccinated):\n",
    "    name = names[i]\n",
    "    age = ages [i]\n",
    "    if eligibility(age) & vaccine_instock(yes):\n",
    "        print(f\"✅ {name} ({age}) is eligible for vaccination.\")\n",
    "    else:\n",
    "        print(f\"⚠️ {name} ({age}) is NOT eligible — underage.\")\n",
    "\n",
    "              \n",
    "    \n",
    "        \n",
    "                "
   ]
  },
  {
   "cell_type": "code",
   "execution_count": 46,
   "id": "71b6dc07-4c50-4776-894e-5fc4c97eb273",
   "metadata": {},
   "outputs": [
    {
     "name": "stdout",
     "output_type": "stream",
     "text": [
      "How many patients were vaccinated today?  2\n",
      "Enter name of patient 1:  marwan\n",
      "Enter age of patient 1:  21\n",
      "Did patient have an appointment? (yes/no):  y\n",
      "Was vaccine in stock? (yes/no):  y\n",
      "Enter name of patient 2:  anna\n",
      "Enter age of patient 2:  17\n",
      "Did patient have an appointment? (yes/no):  n\n",
      "Was vaccine in stock? (yes/no):  y\n"
     ]
    },
    {
     "name": "stdout",
     "output_type": "stream",
     "text": [
      "\n",
      "🧾 Vaccine Eligibility Report:\n",
      "⚠️ marwan (21), Appointment: no, Vaccine in stock: no - NOT eligible.\n",
      "⚠️ anna (17), Appointment: no, Vaccine in stock: no - NOT eligible.\n"
     ]
    }
   ],
   "source": [
    "total_vaccinated = int(input(\"How many patients were vaccinated today? \"))\n",
    "\n",
    "names = []\n",
    "ages = []\n",
    "appointments = []\n",
    "vaccines_in_stock = []\n",
    "\n",
    "def eligibility(age, has_appointment, vaccine_available):\n",
    "    return age >= 18 and has_appointment and vaccine_available\n",
    "\n",
    "for i in range(total_vaccinated):\n",
    "    name = input(f\"Enter name of patient {i+1}: \")\n",
    "    age = int(input(f\"Enter age of patient {i+1}: \"))\n",
    "    appointment_input = input(f\"Did patient have an appointment? (yes/no): \").lower()\n",
    "    vaccine_input = input(f\"Was vaccine in stock? (yes/no): \").lower()\n",
    "\n",
    "    names.append(name)\n",
    "    ages.append(age)\n",
    "    appointments.append(appointment_input == \"yes\")\n",
    "    vaccines_in_stock.append(vaccine_input == \"yes\")\n",
    "\n",
    "print(\"\\n🧾 Vaccine Eligibility Report:\")\n",
    "\n",
    "for i in range(total_vaccinated):\n",
    "    name = names[i]\n",
    "    age = ages[i]\n",
    "    has_appointment = appointments[i]\n",
    "    vaccine_available = vaccines_in_stock[i]\n",
    "\n",
    "    if eligibility(age, has_appointment, vaccine_available):\n",
    "        print(f\"✅ {name} ({age}), Appointment: {'yes' if has_appointment else 'no'}, Vaccine in stock: {'yes' if vaccine_available else 'no'} - Eligible for vaccination.\")\n",
    "    else:\n",
    "        print(f\"⚠️ {name} ({age}), Appointment: {'yes' if has_appointment else 'no'}, Vaccine in stock: {'yes' if vaccine_available else 'no'} - NOT eligible.\")\n"
   ]
  },
  {
   "cell_type": "code",
   "execution_count": null,
   "id": "cf06a862-374d-4292-b697-5c2c0abdd8a0",
   "metadata": {},
   "outputs": [],
   "source": []
  }
 ],
 "metadata": {
  "kernelspec": {
   "display_name": "Python [conda env:base] *",
   "language": "python",
   "name": "conda-base-py"
  },
  "language_info": {
   "codemirror_mode": {
    "name": "ipython",
    "version": 3
   },
   "file_extension": ".py",
   "mimetype": "text/x-python",
   "name": "python",
   "nbconvert_exporter": "python",
   "pygments_lexer": "ipython3",
   "version": "3.13.5"
  }
 },
 "nbformat": 4,
 "nbformat_minor": 5
}
