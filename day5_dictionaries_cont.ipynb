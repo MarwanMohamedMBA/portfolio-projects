{
 "cells": [
  {
   "cell_type": "code",
   "execution_count": 2,
   "id": "1a99be30",
   "metadata": {},
   "outputs": [
    {
     "name": "stdout",
     "output_type": "stream",
     "text": [
      "\n",
      "Entering info for patient 1\n",
      "\n",
      "Entering info for patient 2\n",
      "\n",
      "📋 Patient Summary Report:\n",
      "Name: anna\n",
      "Age: 14\n",
      "Appointment: No\n",
      "Vaccine type: flu\n",
      "✅ Eligible: No\n",
      "-------------------------\n",
      "Name: marwan\n",
      "Age: 19\n",
      "Appointment: Yes\n",
      "Vaccine type: flu\n",
      "✅ Eligible: Yes\n",
      "-------------------------\n"
     ]
    }
   ],
   "source": [
    "def is_eligible(age):           #defining the eligibility function\n",
    "    return age >= 18\n",
    "\n",
    "\n",
    "total_patients = int(input(\"How many patients were seen today? \"))      #need a loop, ask how many patients were seen\n",
    "\n",
    "patient_list = []       #create the empty list for the patients\n",
    "\n",
    "\n",
    "for i in range(total_patients):                 # looping the total patients\n",
    "    print(f\"\\nEntering info for patient {i + 1}\")\n",
    "\n",
    "    name = input(\"What is the patient's name? \")        #inside the loop needed info for each patient that will be stored\n",
    "\n",
    "    age_input = input(\"What is the patient's age? \")\n",
    "    while not age_input.isdigit():\n",
    "        print(\"Please enter a valid number.\")\n",
    "        age_input = input(\"What is the patient's age? \")\n",
    "    age = int(age_input)\n",
    "\n",
    "    has_appointment_input = input(\"Do they have an appointment? (yes/no): \").lower()\n",
    "    has_appointment = has_appointment_input == \"yes\"\n",
    "    vaccine_type = input(\"Which vaccine would you like? \" )\n",
    "    patient = {         #inside the loop bulding dictionaries for collected data\n",
    "        \"name\": name,\n",
    "        \"age\": age,\n",
    "        \"has_appointment\": has_appointment,\n",
    "        \"vaccine_type\": vaccine_type,\n",
    "        \"is_eligible\": is_eligible(age)\n",
    "\n",
    "    }\n",
    "\n",
    "\n",
    "    patient_list.append(patient)    #appending(adding) it to our list, creating a patient list that stores all inputted values for patient\n",
    "\n",
    "print(\"\\n📋 Patient Summary Report:\")       #after the loop, summary report header\n",
    "\n",
    "for patient in patient_list:                #looping through the created list and printting inputed data in a summary report\n",
    "    print(f\"Name: {patient['name']}\")\n",
    "    print(f\"Age: {patient['age']}\")\n",
    "    print(f\"Appointment: {'Yes' if patient['has_appointment'] else 'No'}\")\n",
    "    print(f\"Vaccine type: {patient['vaccine_type']}\")\n",
    "    print(f\"✅ Eligible: {'Yes' if patient['is_eligible'] else 'No'}\")\n",
    "\n",
    "    print(\"-------------------------\")\n",
    "\n",
    "\n",
    "\n",
    "\n",
    "\n",
    "\n",
    "\n"
   ]
  },
  {
   "cell_type": "code",
   "execution_count": null,
   "id": "a6db7b94",
   "metadata": {},
   "outputs": [],
   "source": []
  }
 ],
 "metadata": {
  "kernelspec": {
   "display_name": "base",
   "language": "python",
   "name": "python3"
  },
  "language_info": {
   "codemirror_mode": {
    "name": "ipython",
    "version": 3
   },
   "file_extension": ".py",
   "mimetype": "text/x-python",
   "name": "python",
   "nbconvert_exporter": "python",
   "pygments_lexer": "ipython3",
   "version": "3.13.5"
  }
 },
 "nbformat": 4,
 "nbformat_minor": 5
}
