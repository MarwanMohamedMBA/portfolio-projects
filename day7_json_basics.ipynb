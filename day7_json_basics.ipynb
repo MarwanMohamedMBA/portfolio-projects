{
 "cells": [
  {
   "cell_type": "code",
   "execution_count": 5,
   "id": "f8130b33",
   "metadata": {},
   "outputs": [
    {
     "name": "stdout",
     "output_type": "stream",
     "text": [
      "{'name': 'John Doe', 'age': 34, 'has_appointment': True, 'vaccine_count': 2, 'vaccines': [{'name': 'Pfizer', 'date': '2023-06-01'}, {'name': 'Moderna', 'date': '2023-07-01'}]}\n",
      "John Doe\n",
      "Moderna\n"
     ]
    }
   ],
   "source": [
    "import json\n",
    "\n",
    "# Example patient dictionary\n",
    "patient = {\n",
    "    \"name\": \"John Doe\",\n",
    "    \"age\": 34,\n",
    "    \"has_appointment\": True,\n",
    "    \"vaccine_count\": 2,\n",
    "    \"vaccines\": [\n",
    "        {\"name\": \"Pfizer\", \"date\": \"2023-06-01\"},\n",
    "        {\"name\": \"Moderna\", \"date\": \"2023-07-01\"}\n",
    "    ]\n",
    "}\n",
    "\n",
    "with open(\"patient_data.json\", \"w\") as file:\n",
    "    json.dump(patient, file, indent=4)\n",
    "\n",
    "with open(\"patient_data.json\", \"r\") as file:\n",
    "    patient_loaded = json.load(file)\n",
    "\n",
    "print(patient_loaded)\n",
    "\n",
    "\n",
    "print(patient_loaded['name'])  # John Doe\n",
    "print(patient_loaded['vaccines'][1]['name'])  # Pfizer\n"
   ]
  },
  {
   "cell_type": "code",
   "execution_count": 15,
   "id": "d0dd1e42",
   "metadata": {},
   "outputs": [
    {
     "name": "stdout",
     "output_type": "stream",
     "text": [
      "[{'name': 'John Doe', 'age': 34, 'has_appointment': True, 'vaccine_count': 2, 'vaccines': [{'name': 'Pfizer', 'date': '2023-06-01'}, {'name': 'Pfizer', 'date': '2023-07-01'}]}, {'name': 'Jane Smith', 'age': 29, 'has_appointment': False, 'vaccine_count': 0, 'vaccines': []}]\n",
      "Name: John Doe, Age: 34, Appointment: True\n",
      "Name: Jane Smith, Age: 29, Appointment: False\n",
      "[\n",
      "    {\n",
      "        \"name\": \"John Doe\",\n",
      "        \"age\": 34,\n",
      "        \"has_appointment\": true,\n",
      "        \"vaccine_count\": 2,\n",
      "        \"vaccines\": [\n",
      "            {\n",
      "                \"name\": \"Pfizer\",\n",
      "                \"date\": \"2023-06-01\"\n",
      "            },\n",
      "            {\n",
      "                \"name\": \"Pfizer\",\n",
      "                \"date\": \"2023-07-01\"\n",
      "            }\n",
      "        ]\n",
      "    },\n",
      "    {\n",
      "        \"name\": \"Jane Smith\",\n",
      "        \"age\": 29,\n",
      "        \"has_appointment\": false,\n",
      "        \"vaccine_count\": 0,\n",
      "        \"vaccines\": []\n",
      "    }\n",
      "]\n"
     ]
    }
   ],
   "source": [
    "import json\n",
    "\n",
    "patients = [\n",
    "    {\n",
    "        \"name\": \"John Doe\",\n",
    "        \"age\": 34,\n",
    "        \"has_appointment\": True,\n",
    "        \"vaccine_count\": 2,\n",
    "        \"vaccines\": [\n",
    "            {\"name\": \"Pfizer\", \"date\": \"2023-06-01\"},\n",
    "            {\"name\": \"Pfizer\", \"date\": \"2023-07-01\"}\n",
    "        ]\n",
    "    },\n",
    "    {\n",
    "        \"name\": \"Jane Smith\",\n",
    "        \"age\": 29,\n",
    "        \"has_appointment\": False,\n",
    "        \"vaccine_count\": 0,\n",
    "        \"vaccines\": []\n",
    "    }\n",
    "]\n",
    "\n",
    "with open(\"patients.json\", \"w\") as file:\n",
    "    json.dump(patients, file, indent=4)\n",
    "\n",
    "with open(\"patients.json\", \"r\") as file:\n",
    "    loaded_patients = json.load(file)\n",
    "\n",
    "print(loaded_patients)\n",
    "\n",
    "for i in loaded_patients:\n",
    "    print(f\"Name: {i['name']}, Age: {i['age']}, Appointment: {i['has_appointment']}\")\n",
    "\n",
    "\n",
    "json_string = json.dumps(patients, indent=4)\n",
    "print(json_string)\n",
    "\n",
    "\n"
   ]
  },
  {
   "cell_type": "code",
   "execution_count": null,
   "id": "f9827a98",
   "metadata": {},
   "outputs": [],
   "source": []
  }
 ],
 "metadata": {
  "kernelspec": {
   "display_name": "base",
   "language": "python",
   "name": "python3"
  },
  "language_info": {
   "codemirror_mode": {
    "name": "ipython",
    "version": 3
   },
   "file_extension": ".py",
   "mimetype": "text/x-python",
   "name": "python",
   "nbconvert_exporter": "python",
   "pygments_lexer": "ipython3",
   "version": "3.13.5"
  }
 },
 "nbformat": 4,
 "nbformat_minor": 5
}
