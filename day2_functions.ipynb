{
 "cells": [
  {
   "cell_type": "code",
   "execution_count": 1,
   "id": "097b608d-aa9a-4698-8c01-6a0777dcf7dc",
   "metadata": {},
   "outputs": [
    {
     "name": "stdout",
     "output_type": "stream",
     "text": [
      "CVS Pharmacy\n",
      "120\n",
      "True\n"
     ]
    }
   ],
   "source": [
    "# Assign values to variables\n",
    "store_name = \"CVS Pharmacy\"\n",
    "vaccines_given = 120\n",
    "is_open = True\n",
    "\n",
    "# Print them out\n",
    "print(store_name)\n",
    "print(vaccines_given)\n",
    "print(is_open)\n"
   ]
  },
  {
   "cell_type": "code",
   "execution_count": 2,
   "id": "d0015c51-c5c9-4e10-9b1b-9198242c2bb1",
   "metadata": {},
   "outputs": [
    {
     "name": "stdout",
     "output_type": "stream",
     "text": [
      "Enter your age:  18\n",
      "Do you have an appointment? (yes/no):  yes\n",
      "Is the vaccine in stock? (yes/no):  yes\n"
     ]
    },
    {
     "name": "stdout",
     "output_type": "stream",
     "text": [
      "✅ Patient is eligible for vaccination.\n"
     ]
    }
   ],
   "source": [
    "# Ask the user for their age\n",
    "age = int(input(\"Enter your age: \"))\n",
    "\n",
    "# Ask if they have an appointment\n",
    "has_appointment = input(\"Do you have an appointment? (yes/no): \").lower() == \"yes\"\n",
    "\n",
    "# Ask if vaccine is in stock\n",
    "vaccine_in_stock = input(\"Is the vaccine in stock? (yes/no): \").lower() == \"yes\"\n",
    "\n",
    "# Check eligibility\n",
    "if age >= 18 and has_appointment and vaccine_in_stock:\n",
    "    print(\"✅ Patient is eligible for vaccination.\")\n",
    "else:\n",
    "    print(\"❌ Patient is NOT eligible.\")\n"
   ]
  },
  {
   "cell_type": "code",
   "execution_count": 3,
   "id": "038c80a7-829a-4312-bb76-f265def1e457",
   "metadata": {},
   "outputs": [
    {
     "name": "stdout",
     "output_type": "stream",
     "text": [
      "Enter the phoone number:  5136527216\n",
      "do you have an extracare account? :  n\n"
     ]
    },
    {
     "name": "stdout",
     "output_type": "stream",
     "text": [
      "sign customer up\n"
     ]
    }
   ],
   "source": [
    "#ask for extracare card\n",
    "phone_number = int(input(\"Enter the phoone number: \"))\n",
    "\n",
    "has_an_account = input(\"do you have an extracare account? : \").lower() == \"yes\"\n",
    "\n",
    "if has_an_account :\n",
    "    print(\"please proceed with your transaction\")\n",
    "else:\n",
    "    print(\"sign customer up\")"
   ]
  },
  {
   "cell_type": "code",
   "execution_count": 7,
   "id": "8a7caf3b-54b7-4e37-b963-2412f0e22b78",
   "metadata": {},
   "outputs": [
    {
     "name": "stdout",
     "output_type": "stream",
     "text": [
      "Hello Marwan, you've given 120 vaccines today!\n"
     ]
    }
   ],
   "source": [
    "name = \"Marwan\"\n",
    "vaccines = 120\n",
    "print(f\"Hello {name}, you've given {vaccines} vaccines today!\")\n"
   ]
  },
  {
   "cell_type": "code",
   "execution_count": 10,
   "id": "5c9b10f0-26b8-4120-935a-1ee9e4a6efc4",
   "metadata": {},
   "outputs": [
    {
     "name": "stdout",
     "output_type": "stream",
     "text": [
      "Enter your name:  marwan\n",
      "Enter your age:  14\n",
      "How many vaccines did you give today?  6\n"
     ]
    },
    {
     "name": "stdout",
     "output_type": "stream",
     "text": [
      "not allowed to immunize\n"
     ]
    }
   ],
   "source": [
    "name = input(\"Enter your name: \")\n",
    "age = int(input(\"Enter your age: \"))\n",
    "vaccines_given = int(input(\"How many vaccines did you give today? \"))\n",
    "if age < 18:\n",
    "    print(\"not allowed to immunize\")\n",
    "    exit()\n",
    "else:\n",
    "    print(f\"Pharmacy Staff Report:\")\n",
    "    print(f\"🧑 Staff: {name}\")\n",
    "    print(f\"📅 Age: {age}\")\n",
    "    print(f\"💉 Vaccines Administered: {vaccines_given}\")\n"
   ]
  },
  {
   "cell_type": "code",
   "execution_count": 1,
   "id": "d5d4f88a-071b-4c90-b069-94d187d14ea2",
   "metadata": {},
   "outputs": [
    {
     "name": "stdout",
     "output_type": "stream",
     "text": [
      "Enter total sales for the day: $ 6578.98\n"
     ]
    },
    {
     "name": "stdout",
     "output_type": "stream",
     "text": [
      "Total sales recorded: $6578.98\n"
     ]
    }
   ],
   "source": [
    "total_sales = float(input(\"Enter total sales for the day: $\"))\n",
    "print(f\"Total sales recorded: ${total_sales:.2f}\")\n"
   ]
  },
  {
   "cell_type": "code",
   "execution_count": 3,
   "id": "1ce0c366-7f3d-41cd-a411-fdf20ba30479",
   "metadata": {},
   "outputs": [],
   "source": [
    "def function_name(parameters):\n",
    "    # indented block of code\n",
    "    print(\"Hello from inside the function!\")\n"
   ]
  },
  {
   "cell_type": "code",
   "execution_count": null,
   "id": "bbc53c54-b27e-4c7a-8f60-b47180488f11",
   "metadata": {},
   "outputs": [],
   "source": []
  },
  {
   "cell_type": "code",
   "execution_count": 8,
   "id": "21351bf5-f124-43e9-a006-529084ff6d83",
   "metadata": {},
   "outputs": [
    {
     "name": "stdout",
     "output_type": "stream",
     "text": [
      "Enter your name:  marwan\n",
      "Enter your age:  13\n",
      "How many vaccines did you give today?  1\n"
     ]
    },
    {
     "name": "stdout",
     "output_type": "stream",
     "text": [
      "❌ Not allowed to immunize\n"
     ]
    }
   ],
   "source": [
    "def pharmacy_report():\n",
    "    name = input(\"Enter your name: \")\n",
    "    age = int(input(\"Enter your age: \"))\n",
    "    vaccines_given = int(input(\"How many vaccines did you give today? \"))\n",
    "\n",
    "    if age < 18:\n",
    "        print(\"❌ Not allowed to immunize\")\n",
    "        return  # exits the function early\n",
    "    \n",
    "    print(f\"Pharmacy Staff Report:\")\n",
    "    print(f\"🧑 Staff: {name}\")\n",
    "    print(f\"📅 Age: {age}\")\n",
    "    print(f\"💉 Vaccines Administered: {vaccines_given}\")\n",
    "\n",
    "# Call the function\n",
    "pharmacy_report()\n"
   ]
  },
  {
   "cell_type": "code",
   "execution_count": null,
   "id": "66fca190-4041-4f6d-85d1-6eb5fa68528c",
   "metadata": {},
   "outputs": [],
   "source": []
  },
  {
   "cell_type": "code",
   "execution_count": 11,
   "id": "bbc7a35b-a7cf-45c3-9ef5-d17e77233f1d",
   "metadata": {},
   "outputs": [
    {
     "name": "stdout",
     "output_type": "stream",
     "text": [
      "Enter age:  17\n",
      "Do you have an appointment? (yes/no):  no\n",
      "Is the vaccine in stock? (yes/no):  yes\n"
     ]
    },
    {
     "name": "stdout",
     "output_type": "stream",
     "text": [
      "❌ Patient must be at least 18 years old.\n"
     ]
    }
   ],
   "source": [
    "def check_eligibility(age, has_appointment, vaccine_in_stock):\n",
    "    if age < 18:\n",
    "        return \"❌ Patient must be at least 18 years old.\"\n",
    "    if not has_appointment:\n",
    "        return \"❌ Patient must have an appointment.\"\n",
    "    if not vaccine_in_stock:\n",
    "        return \"❌ Vaccine is not in stock.\"\n",
    "    return \"✅ Patient is eligible for vaccination.\"\n",
    "\n",
    "age = int(input(\"Enter age: \"))\n",
    "has_appointment = input(\"Do you have an appointment? (yes/no): \").lower() == \"yes\"\n",
    "vaccine_in_stock = input(\"Is the vaccine in stock? (yes/no): \").lower() == \"yes\"\n",
    "\n",
    "message = check_eligibility(age, has_appointment, vaccine_in_stock)\n",
    "print(message)\n",
    "\n"
   ]
  },
  {
   "cell_type": "code",
   "execution_count": null,
   "id": "e74ac036-c308-4130-acb4-a1df543de6df",
   "metadata": {},
   "outputs": [],
   "source": []
  },
  {
   "cell_type": "code",
   "execution_count": 20,
   "id": "42ac580c-f4db-40a6-861d-2f7651eeb5bf",
   "metadata": {},
   "outputs": [
    {
     "name": "stdout",
     "output_type": "stream",
     "text": [
      "what is your name? mar\n",
      "how many vaccines have you given?  12\n",
      "Enter patient's age:  12\n",
      "do they have an appointment (yes/no):  n\n",
      "is the vaccine in stock? (yes/no):  y\n"
     ]
    },
    {
     "name": "stdout",
     "output_type": "stream",
     "text": [
      "\n",
      "Pharmacy Report for mar\n",
      "💉 Vaccines Administered Today: 12\n",
      "📋 Patient Eligibility Status: patient not eligible\n"
     ]
    }
   ],
   "source": [
    "def check_patient_eligibility(age, has_appointment, vaccine_in_stock):  #patient eligibilty function\n",
    "\n",
    "    if age < 21:\n",
    "        return \"patient not eligible\"\n",
    "    if not has_appointment:\n",
    "        return \"schedule appointment\"\n",
    "    if not vaccine_in_stock:\n",
    "        return \"vaccine out of stock\"\n",
    "\n",
    "staff_name= input(\"what is your name?\")\n",
    "number_of_vaccines= int(input(\"how many vaccines have you given? \"))\n",
    "\n",
    "age = int(input(\"Enter patient's age: \")) #defining variables\n",
    "has_appointment= input(\"do they have an appointment (yes/no): \").lower() == \"yes\"\n",
    "vaccine_in_stock= input( \"is the vaccine in stock? (yes/no): \").lower() == \"yes\"\n",
    "\n",
    "message = check_patient_eligibility(age, has_appointment, vaccine_in_stock)\n",
    "print(f\"\\nPharmacy Report for {staff_name}\")\n",
    "print(f\"💉 Vaccines Administered Today: {number_of_vaccines}\")\n",
    "print(f\"📋 Patient Eligibility Status: {message}\")\n",
    "    "
   ]
  },
  {
   "cell_type": "code",
   "execution_count": null,
   "id": "7e70c5aa-6a8d-4202-a76a-6e098cc43ba3",
   "metadata": {},
   "outputs": [],
   "source": []
  },
  {
   "cell_type": "code",
   "execution_count": null,
   "id": "1c9a4083-61c6-4743-bde2-bbf707a26d9d",
   "metadata": {},
   "outputs": [],
   "source": []
  }
 ],
 "metadata": {
  "kernelspec": {
   "display_name": "Python [conda env:base] *",
   "language": "python",
   "name": "conda-base-py"
  },
  "language_info": {
   "codemirror_mode": {
    "name": "ipython",
    "version": 3
   },
   "file_extension": ".py",
   "mimetype": "text/x-python",
   "name": "python",
   "nbconvert_exporter": "python",
   "pygments_lexer": "ipython3",
   "version": "3.13.5"
  }
 },
 "nbformat": 4,
 "nbformat_minor": 5
}
